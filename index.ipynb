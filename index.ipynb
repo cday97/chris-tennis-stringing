{
  "cells": [
    {
      "cell_type": "raw",
      "metadata": {},
      "source": [
        "---\n",
        "page-layout: full\n",
        "title-block-banner: true\n",
        "---"
      ],
      "id": "66df644b"
    },
    {
      "cell_type": "markdown",
      "metadata": {},
      "source": [
        "# Chris Tennis Stringing\n"
      ],
      "id": "1476ea53"
    },
    {
      "cell_type": "code",
      "metadata": {},
      "source": [
        "#| column: screen\n",
        "\n",
        "import Image\n",
        "jpgfile = Image.open(\"picture.jpg\")"
      ],
      "id": "bc6cf88e",
      "execution_count": null,
      "outputs": []
    }
  ],
  "metadata": {
    "kernelspec": {
      "display_name": "Python 3",
      "language": "python",
      "name": "python3"
    }
  },
  "nbformat": 4,
  "nbformat_minor": 5
}